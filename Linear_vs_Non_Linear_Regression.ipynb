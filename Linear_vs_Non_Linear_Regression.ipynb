{
  "nbformat": 4,
  "nbformat_minor": 0,
  "metadata": {
    "colab": {
      "name": "Linear_vs_Non-Linear_Regression.ipynb",
      "version": "0.3.2",
      "provenance": [],
      "collapsed_sections": [],
      "include_colab_link": true
    },
    "kernelspec": {
      "name": "python3",
      "display_name": "Python 3"
    },
    "accelerator": "GPU"
  },
  "cells": [
    {
      "cell_type": "markdown",
      "metadata": {
        "id": "view-in-github",
        "colab_type": "text"
      },
      "source": [
        "<a href=\"https://colab.research.google.com/github/soharabhossain/DataAnalysis/blob/master/Linear_vs_Non_Linear_Regression.ipynb\" target=\"_parent\"><img src=\"https://colab.research.google.com/assets/colab-badge.svg\" alt=\"Open In Colab\"/></a>"
      ]
    },
    {
      "cell_type": "code",
      "metadata": {
        "id": "sQaPm7mosmaF",
        "colab_type": "code",
        "colab": {}
      },
      "source": [
        "import pandas as pd"
      ],
      "execution_count": 0,
      "outputs": []
    },
    {
      "cell_type": "code",
      "metadata": {
        "id": "_kmJrwXztL1z",
        "colab_type": "code",
        "colab": {}
      },
      "source": [
        "#Importing libraries. The same will be used throughout the article.\n",
        "import numpy as np\n",
        "import pandas as pd\n",
        "import random\n",
        "import matplotlib.pyplot as plt\n",
        "%matplotlib inline\n",
        "\n",
        "from matplotlib.pylab import rcParams\n",
        "rcParams['figure.figsize'] = 10, 8\n"
      ],
      "execution_count": 0,
      "outputs": []
    },
    {
      "cell_type": "markdown",
      "metadata": {
        "id": "YaO104KVxC4C",
        "colab_type": "text"
      },
      "source": [
        "## Generate some Synthetic Data to be Fitted"
      ]
    },
    {
      "cell_type": "code",
      "metadata": {
        "id": "sgZiecUWtOHQ",
        "colab_type": "code",
        "colab": {}
      },
      "source": [
        "#Define input array with angles from 60deg to 300deg converted to radians\n",
        "x = np.array([i*np.pi/180 for i in range(60,300,4)])\n",
        "\n",
        "np.random.seed(10)  #Setting seed for reproducability\n",
        "\n",
        "y = np.sin(x) + np.random.normal(0,0.15,len(x))  # Fit a sine curve on the data and add some random noise to represent y (target/dependent variable)\n",
        "\n",
        "data = pd.DataFrame(np.column_stack([x,y]),columns=['x','y'])\n",
        "plt.plot(data['x'], data['y'],'.')"
      ],
      "execution_count": 0,
      "outputs": []
    },
    {
      "cell_type": "markdown",
      "metadata": {
        "id": "o8QxiKixwU2Q",
        "colab_type": "text"
      },
      "source": [
        "## Progressively Add Non-linear Term in the Model Equation and Build More Complex Models to Fit the Data"
      ]
    },
    {
      "cell_type": "code",
      "metadata": {
        "id": "ka-cq_Hps2JW",
        "colab_type": "code",
        "colab": {}
      },
      "source": [
        "\n",
        "for i in range(2,16):  #power of 1 is already there\n",
        "    colname = 'x_%d'%i      #new var will be x_power\n",
        "    data[colname] = data['x']**i\n",
        "\n",
        "print (data.head())"
      ],
      "execution_count": 0,
      "outputs": []
    },
    {
      "cell_type": "markdown",
      "metadata": {
        "id": "lZEnGjzUwgPI",
        "colab_type": "text"
      },
      "source": [
        "### Custom Function to Create and Train Linear Regression Model by Progressively adding Non-linear Terms in the Model"
      ]
    },
    {
      "cell_type": "code",
      "metadata": {
        "id": "wW0RAePtdHu1",
        "colab_type": "code",
        "colab": {}
      },
      "source": [
        "#Import Linear Regression model from scikit-learn.\n",
        "from sklearn.linear_model import LinearRegression\n",
        "def linear_regression(data, power, models_to_plot):\n",
        "    #initialize predictors:\n",
        "    predictors=['x']\n",
        "    if power>=2:\n",
        "        predictors.extend(['x_%d'%i for i in range(2,power+1)])\n",
        "    \n",
        "    #Fit the model\n",
        "    linreg = LinearRegression(normalize=True)\n",
        "    linreg.fit(data[predictors],data['y'])\n",
        "    y_pred = linreg.predict(data[predictors])\n",
        "    \n",
        "    #Check if a plot is to be made for the entered power\n",
        "    if power in models_to_plot:\n",
        "        plt.subplot(models_to_plot[power])\n",
        "        plt.tight_layout()\n",
        "        plt.plot(data['x'],y_pred)\n",
        "        plt.plot(data['x'],data['y'],'.')\n",
        "        plt.title('Plot for power: %d'%power)\n",
        "    \n",
        "    #Return the result in pre-defined format\n",
        "    rss = sum((y_pred-data['y'])**2) # sum of squared residual eror\n",
        "    ret = [rss]\n",
        "    ret.extend([linreg.intercept_])\n",
        "    ret.extend(linreg.coef_)\n",
        "    return ret"
      ],
      "execution_count": 0,
      "outputs": []
    },
    {
      "cell_type": "markdown",
      "metadata": {
        "id": "KEY8qtFQwzgd",
        "colab_type": "text"
      },
      "source": [
        "## Display the Fitted Curve and the various Model Parameters after Training"
      ]
    },
    {
      "cell_type": "code",
      "metadata": {
        "id": "YbD43n5lsXm3",
        "colab_type": "code",
        "colab": {}
      },
      "source": [
        "\n",
        "#Initialize a dataframe to store the results:\n",
        "col = ['rss','intercept'] + ['coef_x_%d'%i for i in range(1,16)]\n",
        "ind = ['model_pow_%d'%i for i in range(1,16)]\n",
        "coef_matrix_simple = pd.DataFrame(index=ind, columns=col)\n",
        "\n",
        "#Define the powers for which a plot is required:\n",
        "models_to_plot = {1:231,3:232,6:233,9:234,12:235,15:236}\n",
        "\n",
        "#Iterate through all powers and assimilate results\n",
        "for i in range(1,16):\n",
        "    coef_matrix_simple.iloc[i-1,0:i+2] = linear_regression(data, power=i, models_to_plot=models_to_plot)"
      ],
      "execution_count": 0,
      "outputs": []
    },
    {
      "cell_type": "code",
      "metadata": {
        "id": "VksEF_lHswXM",
        "colab_type": "code",
        "colab": {}
      },
      "source": [
        "#Set the display format to be scientific for ease of analysis\n",
        "pd.options.display.float_format = '{:,.2g}'.format\n",
        "coef_matrix_simple"
      ],
      "execution_count": 0,
      "outputs": []
    }
  ]
}