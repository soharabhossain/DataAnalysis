{
  "nbformat": 4,
  "nbformat_minor": 0,
  "metadata": {
    "colab": {
      "name": "Regression-R-squared_Adj-R-squared.ipynb",
      "version": "0.3.2",
      "provenance": [],
      "collapsed_sections": [],
      "include_colab_link": true
    },
    "kernelspec": {
      "name": "python3",
      "display_name": "Python 3"
    },
    "accelerator": "GPU"
  },
  "cells": [
    {
      "cell_type": "markdown",
      "metadata": {
        "id": "view-in-github",
        "colab_type": "text"
      },
      "source": [
        "<a href=\"https://colab.research.google.com/github/soharabhossain/DataAnalysis/blob/master/Regression_R_squared_Adj_R_squared.ipynb\" target=\"_parent\"><img src=\"https://colab.research.google.com/assets/colab-badge.svg\" alt=\"Open In Colab\"/></a>"
      ]
    },
    {
      "cell_type": "markdown",
      "metadata": {
        "id": "b_z9mWnM894Y",
        "colab_type": "text"
      },
      "source": [
        "\n",
        "# Regression - R-squared and Adjusted-R-squared\n",
        "\n",
        "## Randomly create some data for regression analysis.\n",
        "\n",
        "Lets create a random sample of 20 observations with 6 features/predictors.\n"
      ]
    },
    {
      "cell_type": "code",
      "metadata": {
        "id": "jhiMWcmSH1b3",
        "colab_type": "code",
        "colab": {}
      },
      "source": [
        "from sklearn.datasets import make_regression\n",
        "X, y = make_regression(n_samples = 20, n_features = 6, random_state = 2, noise = 0.5)\n",
        "\n",
        "print(X.shape)\n",
        "\n",
        "print(y.shape)"
      ],
      "execution_count": 0,
      "outputs": []
    },
    {
      "cell_type": "markdown",
      "metadata": {
        "id": "k1x96PNC9PEx",
        "colab_type": "text"
      },
      "source": [
        "## Scatter plot of some individual features vs. output\n",
        "\n",
        "Visually check for linear relationship between individual X's and Y with a scatter plot.\n"
      ]
    },
    {
      "cell_type": "code",
      "metadata": {
        "id": "Hf_fF0qw7cVO",
        "colab_type": "code",
        "colab": {}
      },
      "source": [
        "import matplotlib.pyplot as plt\n",
        "plt.scatter(X[:,0], y, alpha=0.5)\n",
        "plt.title('Feature-0')\n",
        "plt.xlabel('x')\n",
        "plt.ylabel('y')\n",
        "plt.show()\n",
        "\n",
        "plt.scatter(X[:,1], y, alpha=0.5)\n",
        "plt.title('Feature-1')\n",
        "plt.xlabel('x')\n",
        "plt.ylabel('y')\n",
        "plt.show()\n",
        "\n",
        "plt.scatter(X[:,2], y, alpha=0.5)\n",
        "plt.title('Feature-2')\n",
        "plt.xlabel('x')\n",
        "plt.ylabel('y')\n",
        "plt.show()\n",
        "\n",
        "plt.scatter(X[:,3], y, alpha=0.5)\n",
        "plt.title('Feature-3')\n",
        "plt.xlabel('x')\n",
        "plt.ylabel('y')\n",
        "plt.show()\n",
        "\n",
        "plt.scatter(X[:,4], y, alpha=0.5)\n",
        "plt.title('Feature-4')\n",
        "plt.xlabel('x')\n",
        "plt.ylabel('y')\n",
        "plt.show()\n",
        "\n",
        "plt.scatter(X[:,5], y, alpha=0.5)\n",
        "plt.title('Feature-5')\n",
        "plt.xlabel('x')\n",
        "plt.ylabel('y')\n",
        "plt.show()"
      ],
      "execution_count": 0,
      "outputs": []
    },
    {
      "cell_type": "markdown",
      "metadata": {
        "id": "C76T8L5Y-G3s",
        "colab_type": "text"
      },
      "source": [
        "# Note"
      ]
    },
    {
      "cell_type": "markdown",
      "metadata": {
        "id": "Q32D5P3g9dLA",
        "colab_type": "text"
      },
      "source": [
        "From the above plot of first 6 features it seems that feature 2 and feature 4 have some sort of linear relationship with the output variable.\n",
        "\n",
        "Ohter features don't show such linear relationship.\n",
        "\n",
        "Therefore, is we fit a Linear Regression model (model2) with only feature 2 (or 4 model4) this model will perform better than the a model (model5) fitted with feature (say 5).\n",
        "\n",
        "Let's validate this assumption.\n"
      ]
    },
    {
      "cell_type": "markdown",
      "metadata": {
        "id": "mZKwvDrR_jyx",
        "colab_type": "text"
      },
      "source": [
        "## With Feature 2\n",
        "\n",
        "#### Note the R-squared and the Adjusted-R-squared scores of the fitted model."
      ]
    },
    {
      "cell_type": "code",
      "metadata": {
        "id": "dPFtkyHhIgUU",
        "colab_type": "code",
        "colab": {}
      },
      "source": [
        "import statsmodels.api as sm\n",
        "model2 = sm.OLS(y, X[:, 2]).fit()\n",
        "model2.summary()"
      ],
      "execution_count": 0,
      "outputs": []
    },
    {
      "cell_type": "markdown",
      "metadata": {
        "id": "xpOLA61A_g_6",
        "colab_type": "text"
      },
      "source": [
        "## With Feature 4\n",
        "\n",
        "#### Note the R-squared and the Adjusted-R-squared scores of the fitted model."
      ]
    },
    {
      "cell_type": "code",
      "metadata": {
        "id": "a7_D4nqlH_M2",
        "colab_type": "code",
        "colab": {}
      },
      "source": [
        "import statsmodels.api as sm\n",
        "model4 = sm.OLS(y, X[:, 4]).fit()\n",
        "model4.summary()"
      ],
      "execution_count": 0,
      "outputs": []
    },
    {
      "cell_type": "markdown",
      "metadata": {
        "id": "N4pzbDJj_dpW",
        "colab_type": "text"
      },
      "source": [
        "## With Feature 5\n",
        "\n",
        "#### Note the R-squared and the Adjusted-R-squared scores of the fitted model.\n"
      ]
    },
    {
      "cell_type": "code",
      "metadata": {
        "id": "0nRUUy0IIJDt",
        "colab_type": "code",
        "colab": {}
      },
      "source": [
        "\n",
        "#import statsmodels.api as sm\n",
        "model5 = sm.OLS(y, X[:, 5]).fit()\n",
        "model5.summary()"
      ],
      "execution_count": 0,
      "outputs": []
    },
    {
      "cell_type": "markdown",
      "metadata": {
        "id": "sB-4hZWeArfu",
        "colab_type": "text"
      },
      "source": [
        "# Experiment with more than one feature\n",
        "\n",
        "Lets take feature 4 (which is a good predictor) and along with this let us take two not so important predictors (features 3 and 5) and build a model.\n",
        "\n",
        "The model fitted with only feature 4 has a R-squred of  .443 and Adjusted-R-squared of .414.\n",
        "\n",
        "The new model fitted with the three features (3, 4, 5) has a R-squred of  .471 but an Adjusted-R-squared of .377.\n",
        "\n",
        "## Comparing the model fitted with only feature 4 with the new model fitted with features 3, 4 and 5.\n",
        "\n",
        "A slightly better R-squared score shows that the new model is slightly better in explaining the variance in Y w.r.t these 3 features. \n",
        "However, there is a dip in the Adjusted-R-squared score from .414 to .377. \n",
        "It suggests that the new features (3 and 5) are not so important features for designing the model.\n",
        "\n",
        "A good feature/predictor will be able to explain higher variance in Y, therefore, will improve the R-squared by a larger margin. \n",
        "\n",
        "\n"
      ]
    },
    {
      "cell_type": "code",
      "metadata": {
        "id": "eN08FH4bAasP",
        "colab_type": "code",
        "colab": {}
      },
      "source": [
        "#import statsmodels.api as sm\n",
        "model5 = sm.OLS(y, X[:, [3,4,5]]).fit()\n",
        "model5.summary()"
      ],
      "execution_count": 0,
      "outputs": []
    },
    {
      "cell_type": "markdown",
      "metadata": {
        "id": "gsyIYrQzCsJW",
        "colab_type": "text"
      },
      "source": [
        "## See the Effect of using a Good Feature in Model Building\n",
        "\n",
        "Now, a model is fitted with features 2 and 4 (both are important features).\n",
        "\n",
        "Check the values of R-squared and Adjusted-R-squared.\n"
      ]
    },
    {
      "cell_type": "code",
      "metadata": {
        "id": "SkeE8_6KCnOu",
        "colab_type": "code",
        "colab": {}
      },
      "source": [
        "#import statsmodels.api as sm\n",
        "model5 = sm.OLS(y, X[:, [2,4]]).fit()\n",
        "model5.summary()"
      ],
      "execution_count": 0,
      "outputs": []
    },
    {
      "cell_type": "markdown",
      "metadata": {
        "id": "SEqWQCd9_EN3",
        "colab_type": "text"
      },
      "source": [
        "###############################################\n",
        "#------------------ Case-study -----------------\n",
        "\n",
        "\n",
        "### Predict Car-mileage from different features of a car.\n",
        "\n",
        "\n",
        "### Read data from a CSV"
      ]
    },
    {
      "cell_type": "code",
      "metadata": {
        "id": "uhwNHNhTGi6q",
        "colab_type": "code",
        "colab": {}
      },
      "source": [
        "# import dataset\n",
        "import pandas as pd\n",
        "data = pd.read_csv('mtcars.csv')\n",
        "\n",
        "print(data.head())"
      ],
      "execution_count": 0,
      "outputs": []
    },
    {
      "cell_type": "markdown",
      "metadata": {
        "id": "MvkD-ENuKCGa",
        "colab_type": "text"
      },
      "source": [
        "### Preprocess Data"
      ]
    },
    {
      "cell_type": "code",
      "metadata": {
        "id": "icn4hmjfx9iD",
        "colab_type": "code",
        "colab": {}
      },
      "source": [
        "# remove string and categorical variables\n",
        "cat_var = ['model', 'cyl', 'vs', 'am', 'gear', 'carb']\n",
        "data = data.drop(cat_var, axis = 1)\n",
        "print(data.head())"
      ],
      "execution_count": 0,
      "outputs": []
    },
    {
      "cell_type": "markdown",
      "metadata": {
        "id": "zVk89PPb4cnI",
        "colab_type": "text"
      },
      "source": [
        "### Normalize Data"
      ]
    },
    {
      "cell_type": "code",
      "metadata": {
        "id": "k_tLztlTyKny",
        "colab_type": "code",
        "colab": {}
      },
      "source": [
        "# scale the variables to prevent coefficients from becoming too large or too small\n",
        "from sklearn.preprocessing import MinMaxScaler\n",
        "scaler = MinMaxScaler()\n",
        "data = scaler.fit_transform(data)\n"
      ],
      "execution_count": 0,
      "outputs": []
    },
    {
      "cell_type": "markdown",
      "metadata": {
        "id": "vChwujYL4gL_",
        "colab_type": "text"
      },
      "source": [
        "### Create the LR Model"
      ]
    },
    {
      "cell_type": "code",
      "metadata": {
        "id": "Mxq24ig3yMqI",
        "colab_type": "code",
        "colab": {}
      },
      "source": [
        "# fit the linear regression model to predict mpg as a function of other variables\n",
        "from sklearn.linear_model import LinearRegression\n",
        "reg = LinearRegression()\n"
      ],
      "execution_count": 0,
      "outputs": []
    },
    {
      "cell_type": "markdown",
      "metadata": {
        "id": "526kiPLp4k1D",
        "colab_type": "text"
      },
      "source": [
        "### Seperate out Training Data and Label\n",
        "\n",
        "\n",
        "### Experiment with different feature combinations in fitting the model.\n"
      ]
    },
    {
      "cell_type": "code",
      "metadata": {
        "id": "v1VGmLiMzrEV",
        "colab_type": "code",
        "colab": {}
      },
      "source": [
        "# column 0 is the output labels\n",
        "y=data[:, 0]  \n",
        "\n",
        "\n",
        "# Commont/un-comment different lines to fit the model on different features\n",
        "\n",
        "# All 5 the features\n",
        "#X=data[:, 1:6]      # R-squared =  0.8220253997643747    Adjusted-R-squared =  0.7877995151036776\n",
        "\n",
        "# First 4 features\n",
        "#X=data[:, 1:5]      # R-squared =  0.8061538383178671    Adjusted-R-squared =  0.7774358884390327\n",
        "\n",
        "# First 3 features\n",
        "#X=data[:, 1:4]      # R-squared =  0.7096991776694601    Adjusted-R-squared =  0.6785955181340451\n",
        "\n",
        "# First 2 features\n",
        "#X=data[:, 1:3]      # R-squared =  0.663530743237355     Adjusted-R-squared =  0.6403259669088966\n",
        "\n",
        "# First feature\n",
        "#X=data[:, 1:2]      # R-squared =  0.6079080244298629    Adjusted-R-squared =  0.5948382919108584\n",
        "\n",
        "\n",
        "# Only two Features 5, 6\n",
        "#X=data[:, [4,5]]     # R-squared =  0.7899558504269999   Adjusted-R-squared =  0.7754700470081723\n",
        "\n",
        "# Only three Features 4, 5, 6...these three feature are almost as good as all the features..look at the scores\n",
        "X=data[:, [3, 4, 5]]  # R-squared =  0.8052874391519524   Adjusted-R-squared =  0.7844253790610902\n",
        "\n",
        "\n",
        "print(X.shape)\n",
        "print(y.shape)\n",
        "\n",
        "print(X[1:5,:])"
      ],
      "execution_count": 0,
      "outputs": []
    },
    {
      "cell_type": "markdown",
      "metadata": {
        "id": "s4fB3AdF4tvo",
        "colab_type": "text"
      },
      "source": [
        "### Train the LR Model"
      ]
    },
    {
      "cell_type": "code",
      "metadata": {
        "id": "6T3AZ7N332J_",
        "colab_type": "code",
        "colab": {}
      },
      "source": [
        "reg.fit(X,y)\n",
        "print('\\n Model trained......')"
      ],
      "execution_count": 0,
      "outputs": []
    },
    {
      "cell_type": "markdown",
      "metadata": {
        "id": "IcTz2_ev4w37",
        "colab_type": "text"
      },
      "source": [
        "### Compute Score - R-squared and Adjusted-R-squared"
      ]
    },
    {
      "cell_type": "code",
      "metadata": {
        "id": "sq7nQobJyPD_",
        "colab_type": "code",
        "colab": {}
      },
      "source": [
        "# calculate r2 score\n",
        "from sklearn.metrics import r2_score\n",
        "\n",
        "r2 = r2_score(reg.predict(X), y)\n",
        "\n",
        "# adjusted r2 using formula adj_r2 = 1 - (1- r2) * (n-1) / (n - k - 1)\n",
        "\n",
        "# Number of observations in the sample/training data\n",
        "n = X.shape[0]\n",
        "\n",
        "# k = number of predictors \n",
        "k = X.shape[1]\n",
        "\n",
        "adj_r2 = 1 - ((1-r2)*(n - 1) / (n-k- 1))\n",
        "\n",
        "print('\\n R-squared = ', r2)\n",
        "print('\\n Adjusted-R-squared = ', adj_r2)\n"
      ],
      "execution_count": 0,
      "outputs": []
    },
    {
      "cell_type": "markdown",
      "metadata": {
        "id": "EqvFUW6YJKGk",
        "colab_type": "text"
      },
      "source": [
        "### Fit OLS Model from Statsmodels"
      ]
    },
    {
      "cell_type": "code",
      "metadata": {
        "id": "0vo3tVgqI9JD",
        "colab_type": "code",
        "colab": {
          "base_uri": "https://localhost:8080/",
          "height": 405
        },
        "outputId": "b243747e-2950-42d1-a52e-ab5f0d1e09b0"
      },
      "source": [
        "#import statsmodels.api as sm\n",
        "model_ols = sm.OLS(y, X).fit()\n",
        "model_ols.summary()"
      ],
      "execution_count": 51,
      "outputs": [
        {
          "output_type": "execute_result",
          "data": {
            "text/html": [
              "<table class=\"simpletable\">\n",
              "<caption>OLS Regression Results</caption>\n",
              "<tr>\n",
              "  <th>Dep. Variable:</th>            <td>y</td>        <th>  R-squared (uncentered):</th>      <td>   0.909</td>\n",
              "</tr>\n",
              "<tr>\n",
              "  <th>Model:</th>                   <td>OLS</td>       <th>  Adj. R-squared (uncentered):</th> <td>   0.900</td>\n",
              "</tr>\n",
              "<tr>\n",
              "  <th>Method:</th>             <td>Least Squares</td>  <th>  F-statistic:       </th>          <td>   96.72</td>\n",
              "</tr>\n",
              "<tr>\n",
              "  <th>Date:</th>             <td>Thu, 29 Aug 2019</td> <th>  Prob (F-statistic):</th>          <td>3.32e-15</td>\n",
              "</tr>\n",
              "<tr>\n",
              "  <th>Time:</th>                 <td>11:30:31</td>     <th>  Log-Likelihood:    </th>          <td>  16.224</td>\n",
              "</tr>\n",
              "<tr>\n",
              "  <th>No. Observations:</th>      <td>    32</td>      <th>  AIC:               </th>          <td>  -26.45</td>\n",
              "</tr>\n",
              "<tr>\n",
              "  <th>Df Residuals:</th>          <td>    29</td>      <th>  BIC:               </th>          <td>  -22.05</td>\n",
              "</tr>\n",
              "<tr>\n",
              "  <th>Df Model:</th>              <td>     3</td>      <th>                     </th>              <td> </td>   \n",
              "</tr>\n",
              "<tr>\n",
              "  <th>Covariance Type:</th>      <td>nonrobust</td>    <th>                     </th>              <td> </td>   \n",
              "</tr>\n",
              "</table>\n",
              "<table class=\"simpletable\">\n",
              "<tr>\n",
              "   <td></td>     <th>coef</th>     <th>std err</th>      <th>t</th>      <th>P>|t|</th>  <th>[0.025</th>    <th>0.975]</th>  \n",
              "</tr>\n",
              "<tr>\n",
              "  <th>x1</th> <td>    0.6490</td> <td>    0.094</td> <td>    6.939</td> <td> 0.000</td> <td>    0.458</td> <td>    0.840</td>\n",
              "</tr>\n",
              "<tr>\n",
              "  <th>x2</th> <td>   -0.2031</td> <td>    0.079</td> <td>   -2.562</td> <td> 0.016</td> <td>   -0.365</td> <td>   -0.041</td>\n",
              "</tr>\n",
              "<tr>\n",
              "  <th>x3</th> <td>    0.5781</td> <td>    0.116</td> <td>    4.996</td> <td> 0.000</td> <td>    0.341</td> <td>    0.815</td>\n",
              "</tr>\n",
              "</table>\n",
              "<table class=\"simpletable\">\n",
              "<tr>\n",
              "  <th>Omnibus:</th>       <td> 0.488</td> <th>  Durbin-Watson:     </th> <td>   2.111</td>\n",
              "</tr>\n",
              "<tr>\n",
              "  <th>Prob(Omnibus):</th> <td> 0.784</td> <th>  Jarque-Bera (JB):  </th> <td>   0.050</td>\n",
              "</tr>\n",
              "<tr>\n",
              "  <th>Skew:</th>          <td> 0.074</td> <th>  Prob(JB):          </th> <td>   0.975</td>\n",
              "</tr>\n",
              "<tr>\n",
              "  <th>Kurtosis:</th>      <td> 3.126</td> <th>  Cond. No.          </th> <td>    3.76</td>\n",
              "</tr>\n",
              "</table><br/><br/>Warnings:<br/>[1] Standard Errors assume that the covariance matrix of the errors is correctly specified."
            ],
            "text/plain": [
              "<class 'statsmodels.iolib.summary.Summary'>\n",
              "\"\"\"\n",
              "                                 OLS Regression Results                                \n",
              "=======================================================================================\n",
              "Dep. Variable:                      y   R-squared (uncentered):                   0.909\n",
              "Model:                            OLS   Adj. R-squared (uncentered):              0.900\n",
              "Method:                 Least Squares   F-statistic:                              96.72\n",
              "Date:                Thu, 29 Aug 2019   Prob (F-statistic):                    3.32e-15\n",
              "Time:                        11:30:31   Log-Likelihood:                          16.224\n",
              "No. Observations:                  32   AIC:                                     -26.45\n",
              "Df Residuals:                      29   BIC:                                     -22.05\n",
              "Df Model:                           3                                                  \n",
              "Covariance Type:            nonrobust                                                  \n",
              "==============================================================================\n",
              "                 coef    std err          t      P>|t|      [0.025      0.975]\n",
              "------------------------------------------------------------------------------\n",
              "x1             0.6490      0.094      6.939      0.000       0.458       0.840\n",
              "x2            -0.2031      0.079     -2.562      0.016      -0.365      -0.041\n",
              "x3             0.5781      0.116      4.996      0.000       0.341       0.815\n",
              "==============================================================================\n",
              "Omnibus:                        0.488   Durbin-Watson:                   2.111\n",
              "Prob(Omnibus):                  0.784   Jarque-Bera (JB):                0.050\n",
              "Skew:                           0.074   Prob(JB):                        0.975\n",
              "Kurtosis:                       3.126   Cond. No.                         3.76\n",
              "==============================================================================\n",
              "\n",
              "Warnings:\n",
              "[1] Standard Errors assume that the covariance matrix of the errors is correctly specified.\n",
              "\"\"\""
            ]
          },
          "metadata": {
            "tags": []
          },
          "execution_count": 51
        }
      ]
    }
  ]
}